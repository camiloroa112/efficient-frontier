{
 "cells": [
  {
   "cell_type": "markdown",
   "metadata": {},
   "source": [
    "### Efficient Frontier"
   ]
  },
  {
   "cell_type": "code",
   "execution_count": null,
   "metadata": {},
   "outputs": [],
   "source": [
    "from efficient_frontier import efficient_frontier"
   ]
  },
  {
   "cell_type": "code",
   "execution_count": null,
   "metadata": {},
   "outputs": [],
   "source": [
    "# List of URLs where the S&P500 must be the first one, cause it will be compared with the rest of the portfolio\n",
    "urls = ['https://investing.com/indices/us-spx-500-historical-data',\n",
    "        'https://www.investing.com/equities/apple-computer-inc-historical-data', \n",
    "        'https://www.investing.com/equities/google-inc-c-historical-data',\n",
    "        'https://www.investing.com/equities/facebook-inc-historical-data',\n",
    "        'https://www.investing.com/equities/microsoft-corp-historical-data',\n",
    "        'https://www.investing.com/equities/amazon-com-inc-historical-data']\n",
    "\n",
    "efficient_frontier(urls, 0.05)"
   ]
  }
 ],
 "metadata": {
  "kernelspec": {
   "display_name": "Python 3",
   "language": "python",
   "name": "python3"
  },
  "language_info": {
   "codemirror_mode": {
    "name": "ipython",
    "version": 3
   },
   "file_extension": ".py",
   "mimetype": "text/x-python",
   "name": "python",
   "nbconvert_exporter": "python",
   "pygments_lexer": "ipython3",
   "version": "3.12.2"
  }
 },
 "nbformat": 4,
 "nbformat_minor": 2
}
